{
 "cells": [
  {
   "cell_type": "code",
   "execution_count": null,
   "metadata": {},
   "outputs": [],
   "source": [
    "import pandas as pd\n",
    "import numpy as np\n",
    "import matplotlib.pyplot as plt\n",
    "\n",
    "from matplotlib.lines import Line2D"
   ]
  },
  {
   "cell_type": "code",
   "execution_count": null,
   "metadata": {},
   "outputs": [],
   "source": [
    "crises_df = pd.read_csv('data/african_crises.csv')\n",
    "print(crises_df.isnull().sum())"
   ]
  },
  {
   "cell_type": "code",
   "execution_count": null,
   "metadata": {},
   "outputs": [],
   "source": [
    "# Returns the 3 letter country code of the colonizer of that country\n",
    "def get_colonist(cc3):\n",
    "    \n",
    "    english_colonies = ['EGY', 'KEN', 'NGA', 'ZAF', 'ZMB', 'ZWE', 'MUS']\n",
    "    french_colonies = ['DZA', 'CIV', 'CAF', 'MAR', 'TUN']\n",
    "    portuguese_colonies = ['AGO']\n",
    "\n",
    "    if cc3 in portuguese_colonies:\n",
    "        return 'PRT'\n",
    "    elif cc3 in english_colonies:\n",
    "        return 'GBR'\n",
    "    elif cc3 in french_colonies:\n",
    "        return 'FRA'\n",
    "    \n",
    "# Color codes of former colonists of the african countries\n",
    "def get_color(cc3):\n",
    "    \n",
    "    cmap = {'GBR': 'r', 'FRA': 'b', 'PRT': 'g'}\n",
    "    return cmap[get_colonist(cc3)]"
   ]
  },
  {
   "cell_type": "code",
   "execution_count": null,
   "metadata": {},
   "outputs": [],
   "source": [
    "# Columns that signify crises\n",
    "crises = crises_df[['systemic_crisis', 'domestic_debt_in_default', \n",
    "                    'currency_crises', 'inflation_crises', \n",
    "                    'banking_crisis']]\n",
    "\n",
    "ccs = crises_df['cc3'].unique()\n",
    "\n",
    "for cc in ccs:\n",
    "    years = crises_df.loc[crises_df['cc3'] == cc]['year']\n",
    "    inflation = crises_df.loc[crises_df['cc3'] == cc]['inflation_annual_cpi']\n",
    "    \n",
    "    plt.plot(years, inflation, label=cc)\n",
    "\n",
    "plt.yscale('log')\n",
    "plt.show()"
   ]
  },
  {
   "cell_type": "code",
   "execution_count": null,
   "metadata": {},
   "outputs": [],
   "source": [
    "# Gather all data gathered after 1957 as this is the minimum year we have for each country\n",
    "crises_df_after_1957 = crises_df.loc[crises_df['year'] >= 1957]\n",
    "\n",
    "# Gather all unique country codes we have\n",
    "ccs = crises_df['cc3'].unique()\n",
    "\n",
    "# Iterate and plot the inflation time-series\n",
    "for cc in ccs:\n",
    "    if cc != 'ZWE' and cc != 'AGO':\n",
    "        years = crises_df_after_1957.loc[crises_df['cc3'] == cc]['year']\n",
    "        inflation = crises_df_after_1957.loc[crises_df['cc3'] == cc]['inflation_annual_cpi']\n",
    "    \n",
    "        plt.plot(years, inflation, color=get_color(cc))\n",
    "\n",
    "plt.title('Inflation after 1957 (ZWE/AGO removed)')\n",
    "plt.xlabel('Years')\n",
    "plt.ylabel('Inflation (log scaled)')\n",
    "# plt.yscale('log')\n",
    "# Create custom legend to only signify the colonists\n",
    "custom_lines = [Line2D([0], [0], color='r'),\n",
    "                Line2D([0], [0], color='b'),\n",
    "                Line2D([0], [0], color='g')]\n",
    "plt.legend(custom_lines, ['GBR', 'FRA', 'PRT'])\n",
    "plt.show()"
   ]
  },
  {
   "cell_type": "code",
   "execution_count": null,
   "metadata": {},
   "outputs": [],
   "source": [
    "# Columns that signify what rows/years had crises\n",
    "crises_cols = ['systemic_crisis', 'domestic_debt_in_default', \n",
    "                'currency_crises', 'inflation_crises', \n",
    "                'banking_crisis']\n",
    "\n",
    "# Gather all boolean crises from after 1957\n",
    "bool_crises_df = crises_df_after_1957[['systemic_crisis', 'domestic_debt_in_default', \n",
    "                                       'currency_crises', 'inflation_crises', \n",
    "                                       'banking_crisis', 'cc3']]\n",
    "\n",
    "# Replace values in banking_crisis with boolean values\n",
    "bool_crises_df = bool_crises_df.replace({'banking_crisis': {'crisis': 1, 'no_crisis': 0}})\n",
    "\n",
    "# Iterate over columns that signify crises\n",
    "for crisis in crises_cols:\n",
    "    crisis_counts = []\n",
    "    # For each country save the sum (amount of crisis years)\n",
    "    for cc in ccs:\n",
    "        crisis_counts.append(bool_crises_df[crisis].loc[bool_crises_df['cc3'] == cc].sum())\n",
    "        \n",
    "    # Sort country codes and counts based on counts\n",
    "    cc_sorted, counts_sorted = zip(*[(x, y) for y, x in sorted(zip(crisis_counts, ccs))])\n",
    "    \n",
    "    # Give each country a color\n",
    "    colors = [get_color(cc) for cc in cc_sorted]\n",
    "    plt.title(crisis)\n",
    "    plt.bar(cc_sorted, counts_sorted, color=colors)\n",
    "    plt.show()"
   ]
  },
  {
   "cell_type": "code",
   "execution_count": null,
   "metadata": {},
   "outputs": [],
   "source": [
    "# Dictionary with keys being country codes and their values the date of independence\n",
    "y_of_independence = {}\n",
    "\n",
    "for cc in ccs:\n",
    "    country_crises_df = crises_df.loc[crises_df.cc3 == cc]\n",
    "    # Gather year of independence in our dictionary\n",
    "    y_of_independence[cc] = country_crises_df[country_crises_df.independence == 1].iloc[0].year\n",
    "\n",
    "\n",
    "# # Plots years of independence on a number line (not useful)\n",
    "\n",
    "# countries, years = list(y_of_independence.keys()), list(y_of_independence.values())\n",
    "# colors = [get_color(c) for c in countries]\n",
    "\n",
    "# plt.title('Years of independence of our data-set')\n",
    "# plt.scatter(years, np.zeros_like(years), c=colors)\n",
    "\n",
    "# # Hide y scale as we do not need it\n",
    "# plt.yticks(color='w')\n",
    "# plt.show()"
   ]
  },
  {
   "cell_type": "code",
   "execution_count": null,
   "metadata": {},
   "outputs": [],
   "source": [
    "for cc in ccs:\n",
    "\n",
    "    country_crises_df = crises_df.loc[crises_df.cc3 == cc]\n",
    "    years = country_crises_df.year\n",
    "    \n",
    "    # Sum up amount of crises in the country\n",
    "    total_crises_count_yearly = country_crises_df[crises_cols].sum(axis=1)\n",
    "\n",
    "    plt.title(f'No. of crises in {cc} with year of independence labeled')\n",
    "    plt.xlabel('Years')\n",
    "    plt.ylabel('No. of crises')\n",
    "\n",
    "    plt.plot(years, total_crises_count_yearly, color=get_color(cc))\n",
    "    plt.axvline(y_of_independence[cc], color='g', label='year of independence')\n",
    "    \n",
    "    # Set y-ticks since we don't need intermediate values\n",
    "    plt.yticks([0, 1, 2, 3, 4, 5], [0, 1, 2, 3, 4])\n",
    "\n",
    "    plt.legend(loc='upper right')\n",
    "    plt.show()"
   ]
  }
 ],
 "metadata": {
  "kernelspec": {
   "display_name": "Python 3",
   "language": "python",
   "name": "python3"
  },
  "language_info": {
   "codemirror_mode": {
    "name": "ipython",
    "version": 3
   },
   "file_extension": ".py",
   "mimetype": "text/x-python",
   "name": "python",
   "nbconvert_exporter": "python",
   "pygments_lexer": "ipython3",
   "version": "3.6.8"
  }
 },
 "nbformat": 4,
 "nbformat_minor": 2
}
