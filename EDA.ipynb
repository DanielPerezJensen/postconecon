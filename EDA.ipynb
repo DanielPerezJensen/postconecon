{
 "cells": [
  {
   "cell_type": "code",
   "execution_count": null,
   "metadata": {},
   "outputs": [],
   "source": [
    "import pandas as pd\n",
    "import numpy as np\n",
    "import matplotlib.pyplot as plt"
   ]
  },
  {
   "cell_type": "code",
   "execution_count": null,
   "metadata": {},
   "outputs": [],
   "source": [
    "crises_df = pd.read_csv('data/african_crises.csv')\n",
    "print(crises_df.isnull().sum())"
   ]
  },
  {
   "cell_type": "code",
   "execution_count": null,
   "metadata": {},
   "outputs": [],
   "source": [
    "crises = crises_df[['systemic_crisis', 'domestic_debt_in_default', \n",
    "                    'currency_crises', 'inflation_crises', \n",
    "                    'banking_crisis']]\n",
    "\n",
    "ccs = crises_df['cc3'].unique()\n",
    "\n",
    "for cc in ccs:\n",
    "    years = crises_df.loc[crises_df['cc3'] == cc]['year']\n",
    "    inflation = crises_df.loc[crises_df['cc3'] == cc]['inflation_annual_cpi']\n",
    "    \n",
    "    plt.plot(years, inflation, label=cc)\n",
    "\n",
    "plt.yscale('log')\n",
    "plt.show()"
   ]
  },
  {
   "cell_type": "code",
   "execution_count": null,
   "metadata": {},
   "outputs": [],
   "source": [
    "for cc in ccs:\n",
    "    years = crises_df.loc[crises_df['cc3'] == cc]['year']\n",
    "    print(cc, min(years))"
   ]
  },
  {
   "cell_type": "code",
   "execution_count": null,
   "metadata": {},
   "outputs": [],
   "source": [
    "def get_color(cc3):\n",
    "    \n",
    "    portuguese_colonies = ['AGO']\n",
    "    english_colonies = ['EGY', 'KEN', 'NGA', 'ZAF', 'ZMB', 'ZWE', 'MUS']\n",
    "    french_colonies = ['DZA', 'CIV', 'CAF', 'MAR', 'TUN']\n",
    "    \n",
    "    if cc3 in portuguese_colonies:\n",
    "        return 'g'\n",
    "    elif cc3 in english_colonies:\n",
    "        return 'r'\n",
    "    elif cc3 in french_colonies:\n",
    "        return 'b'\n",
    "    \n",
    "\n",
    "crises_cols = ['systemic_crisis', 'domestic_debt_in_default', \n",
    "                'currency_crises', 'inflation_crises', \n",
    "                'banking_crisis']\n",
    "\n",
    "crises_df_after_1957 = crises_df.loc[crises_df['year'] >= 1957]\n",
    "\n",
    "bool_crises_df = crises_df_after_1957[['systemic_crisis', 'domestic_debt_in_default', \n",
    "                                       'currency_crises', 'inflation_crises', \n",
    "                                       'banking_crisis', 'cc3']]\n",
    "\n",
    "# Replace values in banking_crisis with boolean values\n",
    "bool_crises_df = bool_crises_df.replace({'banking_crisis': {'crisis': 1, 'no_crisis': 0}})\n",
    "\n",
    "ccs = crises_df['cc3'].unique()\n",
    "\n",
    "# Iterate over columns that signify crises\n",
    "for crisis in crises_cols:\n",
    "    crisis_counts = []\n",
    "    # For each country save the sum (amount of crisis years)\n",
    "    for cc in ccs:\n",
    "        crisis_counts.append(bool_crises_df[crisis].loc[bool_crises_df['cc3'] == cc].sum())\n",
    "        \n",
    "    # Sort country codes and counts based on counts\n",
    "    cc_sorted, counts_sorted = zip(*[(x, y) for y, x in sorted(zip(crisis_counts, ccs))])\n",
    "    \n",
    "    # Give each country a color\n",
    "    colors = [get_color(cc) for cc in cc_sorted]\n",
    "    plt.title(crisis)\n",
    "    plt.bar(cc_sorted, counts_sorted, color=colors)\n",
    "    plt.show()"
   ]
  }
 ],
 "metadata": {
  "kernelspec": {
   "display_name": "Python 3",
   "language": "python",
   "name": "python3"
  },
  "language_info": {
   "codemirror_mode": {
    "name": "ipython",
    "version": 3
   },
   "file_extension": ".py",
   "mimetype": "text/x-python",
   "name": "python",
   "nbconvert_exporter": "python",
   "pygments_lexer": "ipython3",
   "version": "3.6.8"
  }
 },
 "nbformat": 4,
 "nbformat_minor": 2
}
